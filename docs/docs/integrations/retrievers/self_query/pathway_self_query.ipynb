{
 "cells": [
  {
   "cell_type": "markdown",
   "id": "13afcae7",
   "metadata": {},
   "source": [
    "# Pathway\n",
    "\n",
    ">[Pathway](https://pathway.com/) is an open data processing framework. It allows you to easily develop data transformation pipelines and Machine Learning applications that work with live data sources and changing data.\n",
    "\n",
    "In the notebook, we'll demo the `SelfQueryRetriever` wrapped around a `Pathway` vector store. "
   ]
  },
  {
   "cell_type": "markdown",
   "id": "68e75fb9",
   "metadata": {},
   "source": [
    "## Creating a Pathway vector store\n",
    "First we'll want to create a Pathway vector store and seed it with some data. We've created a small demo set of documents that contain summaries of movies.\n",
    "\n",
    "**Note:** The self-query retriever requires you to have `lark` installed (`pip install lark`). We also need the `pathway` package."
   ]
  },
  {
   "cell_type": "code",
   "execution_count": null,
   "id": "63a8af5b",
   "metadata": {
    "tags": []
   },
   "outputs": [],
   "source": [
    "#!pip install lark\n"
   ]
  },
  {
   "cell_type": "code",
   "execution_count": null,
   "id": "22431060-52c4-48a7-a97b-9f542b8b0928",
   "metadata": {
    "tags": []
   },
   "outputs": [],
   "source": [
    "#!pip install pathway\n"
   ]
  },
  {
   "cell_type": "markdown",
   "id": "83811610-7df3-4ede-b268-68a6a83ba9e2",
   "metadata": {},
   "source": [
    "We want to use `OpenAIEmbeddings` so we have to get the OpenAI API Key."
   ]
  },
  {
   "cell_type": "code",
   "execution_count": 1,
   "id": "dd01b61b-7d32-4a55-85d6-b2d2d4f18840",
   "metadata": {
    "tags": []
   },
   "outputs": [],
   "source": [
    "import getpass\n",
    "import os\n",
    "\n",
    "os.environ[\"OPENAI_API_KEY\"] = getpass.getpass(\"OpenAI API Key:\")"
   ]
  },
  {
   "cell_type": "code",
   "execution_count": null,
   "id": "bcbe04d9",
   "metadata": {
    "tags": []
   },
   "outputs": [],
   "source": [
    "import pathway as pw\n",
    "from langchain.embeddings.openai import OpenAIEmbeddings\n",
    "from langchain.text_splitter import CharacterTextSplitter\n",
    "from langchain.vectorstores import PathwayVectorServer\n",
    "import logging\n",
    "logging.disable(logging.INFO)\n",
    "\n",
    "\n",
    "# This creates a `pathway` connector that reads a single file.\n",
    "data_sources = []\n",
    "data_sources.append(\n",
    "    pw.io.fs.read(\n",
    "        \"../../../../../templates/rag-pathway/sample_documents\",\n",
    "        format=\"binary\",\n",
    "        mode=\"streaming\",\n",
    "        with_metadata=True,\n",
    "    )\n",
    ")\n",
    "\n",
    "# This creates a connector that tracks files in Google drive.\n",
    "# please follow the instructions at https://pathway.com/developers/tutorials/connectors/gdrive-connector/ to get credentials\n",
    "# data_sources.append(\n",
    "#     pw.io.gdrive.read(object_id=\"17H4YpBOAKQzEJ93xmC2z170l0bP2npMy\", service_user_credentials_file=\"credentials.json\", with_metadata=True))\n",
    "\n",
    "# Choose proper LangChain document transformers\n",
    "text_splitter = CharacterTextSplitter(chunk_size=1000, chunk_overlap=0)\n",
    "embeddings_model = OpenAIEmbeddings(openai_api_key=os.environ[\"OPENAI_API_KEY\"])\n",
    "\n",
    "# The PathwayVectorServer is a wrapper over pathway.xpacks.llm.vector_store to accept LangChain transforments\n",
    "# Fell free to fork it to develop bespoke document processing pipelines.\n",
    "vector_server = PathwayVectorServer(\n",
    "    *data_sources,\n",
    "    embedder=embeddings_model,\n",
    "    splitter=text_splitter,\n",
    ")\n",
    "vector_server.run_server(host=\"127.0.0.1\", port=8765, threaded=True, with_cache=False)"
   ]
  },
  {
   "cell_type": "markdown",
   "id": "78540c0a",
   "metadata": {},
   "source": [
    "We now instantiate and configure the client"
   ]
  },
  {
   "cell_type": "code",
   "execution_count": 3,
   "id": "abadfd8c",
   "metadata": {},
   "outputs": [],
   "source": [
    "from langchain.vectorstores import PathwayVectorClient\n",
    "\n",
    "client = PathwayVectorClient(\n",
    "    host=\"127.0.0.1\",\n",
    "    port=8765,\n",
    ")"
   ]
  },
  {
   "cell_type": "markdown",
   "id": "5ecaab6d",
   "metadata": {},
   "source": [
    "## Creating our self-querying retriever\n",
    "\n",
    "Now we can instantiate our retriever. To do this we'll need to provide some information upfront about the metadata fields that our documents support and a short description of the document contents. Pathway data sources come with some default metadata containing e.g. a modification date or an owner."
   ]
  },
  {
   "cell_type": "code",
   "execution_count": 4,
   "id": "86e34dbf",
   "metadata": {
    "tags": []
   },
   "outputs": [],
   "source": [
    "from langchain.chains.query_constructor.base import AttributeInfo\n",
    "from langchain.chat_models import ChatOpenAI\n",
    "from langchain.retrievers.self_query.base import SelfQueryRetriever\n",
    "\n",
    "metadata_field_info = [\n",
    "    AttributeInfo(\n",
    "        name=\"created_at\",\n",
    "        description=\"The timestamp indicating when the source was created.\",\n",
    "        type=\"integer\",\n",
    "    ),\n",
    "    AttributeInfo(\n",
    "        name=\"modified_at\",\n",
    "        description=\"The timestamp indicating when the source was modified.\",\n",
    "        type=\"integer\",\n",
    "    ),\n",
    "    AttributeInfo(\n",
    "        name=\"owner\",\n",
    "        description=\"The name of the owner of the source file\",\n",
    "        type=\"string\",\n",
    "    ),\n",
    "    AttributeInfo(\n",
    "        name=\"path\", description=\"Path of the source file\", type=\"string\"\n",
    "    ),\n",
    "]\n",
    "document_content_description = \"Information about Pathway\"\n",
    "llm = ChatOpenAI(temperature=0)\n",
    "retriever = SelfQueryRetriever.from_llm(\n",
    "    llm,\n",
    "    client,\n",
    "    document_content_description,\n",
    "    metadata_field_info,\n",
    ")"
   ]
  },
  {
   "cell_type": "markdown",
   "id": "ea9df8d4",
   "metadata": {},
   "source": [
    "## Testing it out\n",
    "And now we can try actually using our retriever!"
   ]
  },
  {
   "cell_type": "code",
   "execution_count": 5,
   "id": "38a126e9",
   "metadata": {},
   "outputs": [
    {
     "data": {
      "text/plain": [
       "[Document(page_content=\"Pathway is an open framework for high-throughput and low-latency real-time data processing. It is used to create Python code which seamlessly combines batch processing, streaming, and real-time API's for LLM apps. Pathway's distributed runtime (🦀-🐍) provides fresh results of your data pipelines whenever new inputs and requests are received.\\n\\nIn the first place, Pathway was designed to be a life-saver (or at least a time-saver) for Python developers and ML/AI engineers faced with live data sources, where you need to react quickly to fresh data. Still, Pathway is a powerful tool that can be used for a lot of things. If you want to do streaming in Python, build an AI data pipeline, or if you are looking for your next Python data processing framework, keep reading.\", metadata={'created_at': 1702922696, 'modified_at': 1702922696, 'owner': None, 'path': '/Users/mlewandowski/langchain/templates/rag-pathway/sample_documents/repo_readme.md'}),\n",
       " Document(page_content=\"Pathway provides a high-level programming interface in Python for defining data transformations, aggregations, and other operations on data streams.\\nWith Pathway, you can effortlessly design and deploy sophisticated data workflows that efficiently handle high volumes of data in real time.\\n\\nPathway is interoperable with various data sources and sinks such as Kafka, CSV files, SQL/noSQL databases, and REST API's, allowing you to connect and process data from different storage systems.\\n\\nTypical use-cases of Pathway include realtime data processing, ETL (Extract, Transform, Load) pipelines, data analytics, monitoring, anomaly detection, and recommendation. Pathway can also independently provide the backbone of a light LLMops stack for real-time LLM applications.\\n\\nIn Pathway, data is represented in the form of Tables. Live data streams are also treated as Tables. The library provides a rich set of operations like filtering, joining, grouping, and windowing.\", metadata={'created_at': 1702922696, 'modified_at': 1702922696, 'owner': None, 'path': '/Users/mlewandowski/langchain/templates/rag-pathway/sample_documents/repo_readme.md'}),\n",
       " Document(page_content=\"Pathway is distributed on a BSL 1.1 License https://github.com/pathwaycom/pathway/blob/main/LICENSE.txt which allows for unlimited non-commercial use, as well as use of the Pathway package for most commercial purposes https://pathway.com/license/, free of charge. Code in this repository automatically converts to Open Source (Apache 2.0 License) after 4 years. Some public repos https://github.com/pathwaycom which are complementary to this one (examples, libraries, connectors, etc.) are licensed as Open Source, under the MIT license.\\n\\n\\n## Contribution guidelines\\n\\nIf you develop a library or connector which you would like to integrate with this repo, we suggest releasing it first as a separate repo on a MIT/Apache 2.0 license. \\n\\nFor all concerns regarding core Pathway functionalities, Issues are encouraged. For further information, don't hesitate to engage with Pathway's Discord https://discord.gg/pathway.\\n\\n## Get Help\", metadata={'created_at': 1702922696, 'modified_at': 1702922696, 'owner': None, 'path': '/Users/mlewandowski/langchain/templates/rag-pathway/sample_documents/repo_readme.md'}),\n",
       " Document(page_content=\"If you have any questions, issues, or just want to chat about Pathway, we're here to help! Feel free to:\\n- Check out the documentation in https://pathway.com/developers/ for detailed information.\\n- Reach out to us via email at contact@pathway.com.\\n\\nOur team is always happy to help you and ensure that you get the most out of Pathway.\\nIf you would like to better understand how best to use Pathway in your project, please don't hesitate to reach out to us.\", metadata={'created_at': 1702922696, 'modified_at': 1702922696, 'owner': None, 'path': '/Users/mlewandowski/langchain/templates/rag-pathway/sample_documents/repo_readme.md'})]"
      ]
     },
     "execution_count": 5,
     "metadata": {},
     "output_type": "execute_result"
    }
   ],
   "source": [
    "# This example only specifies a relevant query\n",
    "retriever.get_relevant_documents(\"What are the features of Pathway?\")"
   ]
  },
  {
   "cell_type": "code",
   "execution_count": 6,
   "id": "fc3f1e6e",
   "metadata": {},
   "outputs": [
    {
     "data": {
      "text/plain": [
       "[Document(page_content=\"Pathway also relies on a powerful Rust engine to ensure high performance for your pipelines, no matter if you are dealing with batch or streaming data.\\nPathway engine makes the utmost of Rust speed and memory safety to provide efficient parallel and distributed processing without being limited by Python's [GIL](https://en.wikipedia.org/w/index.php?title=Global_interpreter_lock&oldid=1144836295).\\n\\nPathway takes the best of both worlds and efficiently associates the convenience of Python with the power of Rust.\\n\\n\\n## 2. Incremental computation\\n\\nPathway's engine incrementally processes data updates. This means that the minimum work needed by any algorithm or transformation is performed to refresh its results when fresh data arrives.\\n\\n## 3. An ML-friendly code life cycle\\n\\n### Writing your code\", metadata={'created_at': 1702922696, 'modified_at': 1702922696, 'owner': None, 'path': '/Users/mlewandowski/langchain/templates/rag-pathway/sample_documents/what-you-get.md'}),\n",
       " Document(page_content='Since Kafka only guarantees the atomic processing of single messages, consistency is lost once the event-packs are flattened into a single-even stream.\\nOn the other hand, Pathway guarantees consistency.\\nIf a Pathway computation unpacks the event-pack into individual events, all messages that form a transaction will be consistently processed, ensuring that every produced output depends on either all or no events that were grouped together into a single event-pack.\\n\\n## 5. Containerized deployments\\n\\nPathway is meant to be deployed in a containerized manner.\\n\\nSingle-machine deployments can easily be achieved using Docker.\\nThe deployment can run concurrently on multiple cores using multiple processes or threads.\\n\\nWe provide a pathway spawn command to aid in launching multi-process and multi-threaded jobs.', metadata={'created_at': 1702922696, 'modified_at': 1702922696, 'owner': None, 'path': '/Users/mlewandowski/langchain/templates/rag-pathway/sample_documents/what-you-get.md'}),\n",
       " Document(page_content='Pathway calls into the same Rust runtime in any deployment - on either streaming data sources or in interactive mode.\\n\\n## 4. Consistency of results\\n\\nPathway computes consistent results: each produced output is computed based on data contained in prefixes of the input data streams.\\nFor most of the operations, exactly the same outputs are produced:\\n\\n1. If the input data was sent to the engine all at once in batch mode.\\n2. If the inputs were sent in several smaller batches, or in streaming mode.\\n\\nThis equivalence of stream and batch processing facilitates easy development of data processing logic: one can reason in terms of steady-state and consistent results and not worry about all intermediate and wrong states through which an eventually consistent system may pass.', metadata={'created_at': 1702922696, 'modified_at': 1702922696, 'owner': None, 'path': '/Users/mlewandowski/langchain/templates/rag-pathway/sample_documents/what-you-get.md'}),\n",
       " Document(page_content='As a Pathway user, you write code in Python, with Pathway imported as a Python module.\\nPathway provides a cookiecutter template in https://github.com/pathwaycom/cookiecutter-pathway to help start Pathway projects.\\n\\nData manipulation syntax is built around a Table API, which closely resembles the DataFrame API of PySpark which in turn resembles DataFrames in pandas.\\n\\nThe same code developed with the Pathway module can be used for batch and streaming use cases, depending only on data connector settings and method of launching.\\nFor many operations, Pathway returns exactly the same results when run in batch and streaming modes.\\nExceptions are out-of-order data for which streaming mode may optionally ignore and functions that explicitly depend on processing time.\\n\\n### Running code and prototyping', metadata={'created_at': 1702922696, 'modified_at': 1702922696, 'owner': None, 'path': '/Users/mlewandowski/langchain/templates/rag-pathway/sample_documents/what-you-get.md'})]"
      ]
     },
     "execution_count": 6,
     "metadata": {},
     "output_type": "execute_result"
    }
   ],
   "source": [
    "# This example specifies a query and a filter\n",
    "retriever.get_relevant_documents(\"What are the features of Pathway? Tell me the answer using only the file sources containing what-you-get in the path.\")"
   ]
  },
  {
   "cell_type": "code",
   "execution_count": 7,
   "id": "f900e40e",
   "metadata": {},
   "outputs": [
    {
     "data": {
      "text/plain": [
       "[Document(page_content=\"Pathway is an open framework for high-throughput and low-latency real-time data processing. It is used to create Python code which seamlessly combines batch processing, streaming, and real-time API's for LLM apps. Pathway's distributed runtime (🦀-🐍) provides fresh results of your data pipelines whenever new inputs and requests are received.\\n\\nIn the first place, Pathway was designed to be a life-saver (or at least a time-saver) for Python developers and ML/AI engineers faced with live data sources, where you need to react quickly to fresh data. Still, Pathway is a powerful tool that can be used for a lot of things. If you want to do streaming in Python, build an AI data pipeline, or if you are looking for your next Python data processing framework, keep reading.\", metadata={'created_at': 1702922696, 'modified_at': 1702922696, 'owner': None, 'path': '/Users/mlewandowski/langchain/templates/rag-pathway/sample_documents/repo_readme.md'}),\n",
       " Document(page_content=\"Pathway provides a high-level programming interface in Python for defining data transformations, aggregations, and other operations on data streams.\\nWith Pathway, you can effortlessly design and deploy sophisticated data workflows that efficiently handle high volumes of data in real time.\\n\\nPathway is interoperable with various data sources and sinks such as Kafka, CSV files, SQL/noSQL databases, and REST API's, allowing you to connect and process data from different storage systems.\\n\\nTypical use-cases of Pathway include realtime data processing, ETL (Extract, Transform, Load) pipelines, data analytics, monitoring, anomaly detection, and recommendation. Pathway can also independently provide the backbone of a light LLMops stack for real-time LLM applications.\\n\\nIn Pathway, data is represented in the form of Tables. Live data streams are also treated as Tables. The library provides a rich set of operations like filtering, joining, grouping, and windowing.\", metadata={'created_at': 1702922696, 'modified_at': 1702922696, 'owner': None, 'path': '/Users/mlewandowski/langchain/templates/rag-pathway/sample_documents/repo_readme.md'}),\n",
       " Document(page_content=\"Pathway is distributed on a BSL 1.1 License https://github.com/pathwaycom/pathway/blob/main/LICENSE.txt which allows for unlimited non-commercial use, as well as use of the Pathway package for most commercial purposes https://pathway.com/license/, free of charge. Code in this repository automatically converts to Open Source (Apache 2.0 License) after 4 years. Some public repos https://github.com/pathwaycom which are complementary to this one (examples, libraries, connectors, etc.) are licensed as Open Source, under the MIT license.\\n\\n\\n## Contribution guidelines\\n\\nIf you develop a library or connector which you would like to integrate with this repo, we suggest releasing it first as a separate repo on a MIT/Apache 2.0 license. \\n\\nFor all concerns regarding core Pathway functionalities, Issues are encouraged. For further information, don't hesitate to engage with Pathway's Discord https://discord.gg/pathway.\\n\\n## Get Help\", metadata={'created_at': 1702922696, 'modified_at': 1702922696, 'owner': None, 'path': '/Users/mlewandowski/langchain/templates/rag-pathway/sample_documents/repo_readme.md'}),\n",
       " Document(page_content=\"If you have any questions, issues, or just want to chat about Pathway, we're here to help! Feel free to:\\n- Check out the documentation in https://pathway.com/developers/ for detailed information.\\n- Reach out to us via email at contact@pathway.com.\\n\\nOur team is always happy to help you and ensure that you get the most out of Pathway.\\nIf you would like to better understand how best to use Pathway in your project, please don't hesitate to reach out to us.\", metadata={'created_at': 1702922696, 'modified_at': 1702922696, 'owner': None, 'path': '/Users/mlewandowski/langchain/templates/rag-pathway/sample_documents/repo_readme.md'})]"
      ]
     },
     "execution_count": 7,
     "metadata": {},
     "output_type": "execute_result"
    }
   ],
   "source": [
    "# This example specifies a composite filter\n",
    "retriever.get_relevant_documents(\n",
    "    \"What are the features of Pathway? Tell me the answer using only the file sources containing readme in the path and modified later than 10th December 2023.\"\n",
    ")"
   ]
  },
  {
   "cell_type": "markdown",
   "id": "39bd1de1-b9fe-4a98-89da-58d8a7a6ae51",
   "metadata": {},
   "source": [
    "## Filter k\n",
    "\n",
    "We can also use the self query retriever to specify `k`: the number of documents to fetch.\n",
    "\n",
    "We can do this by passing `enable_limit=True` to the constructor."
   ]
  },
  {
   "cell_type": "code",
   "execution_count": 8,
   "id": "bff36b88-b506-4877-9c63-e5a1a8d78e64",
   "metadata": {
    "tags": []
   },
   "outputs": [],
   "source": [
    "retriever = SelfQueryRetriever.from_llm(\n",
    "    llm,\n",
    "    client,\n",
    "    document_content_description,\n",
    "    metadata_field_info,\n",
    "    enable_limit=True,\n",
    "    verbose=True,\n",
    ")"
   ]
  },
  {
   "cell_type": "code",
   "execution_count": 9,
   "id": "2758d229-4f97-499c-819f-888acaf8ee10",
   "metadata": {
    "tags": []
   },
   "outputs": [
    {
     "data": {
      "text/plain": [
       "[Document(page_content=\"Pathway is an open framework for high-throughput and low-latency real-time data processing. It is used to create Python code which seamlessly combines batch processing, streaming, and real-time API's for LLM apps. Pathway's distributed runtime (🦀-🐍) provides fresh results of your data pipelines whenever new inputs and requests are received.\\n\\nIn the first place, Pathway was designed to be a life-saver (or at least a time-saver) for Python developers and ML/AI engineers faced with live data sources, where you need to react quickly to fresh data. Still, Pathway is a powerful tool that can be used for a lot of things. If you want to do streaming in Python, build an AI data pipeline, or if you are looking for your next Python data processing framework, keep reading.\", metadata={'created_at': 1702922696, 'modified_at': 1702922696, 'owner': None, 'path': '/Users/mlewandowski/langchain/templates/rag-pathway/sample_documents/repo_readme.md'}),\n",
       " Document(page_content=\"Pathway provides a high-level programming interface in Python for defining data transformations, aggregations, and other operations on data streams.\\nWith Pathway, you can effortlessly design and deploy sophisticated data workflows that efficiently handle high volumes of data in real time.\\n\\nPathway is interoperable with various data sources and sinks such as Kafka, CSV files, SQL/noSQL databases, and REST API's, allowing you to connect and process data from different storage systems.\\n\\nTypical use-cases of Pathway include realtime data processing, ETL (Extract, Transform, Load) pipelines, data analytics, monitoring, anomaly detection, and recommendation. Pathway can also independently provide the backbone of a light LLMops stack for real-time LLM applications.\\n\\nIn Pathway, data is represented in the form of Tables. Live data streams are also treated as Tables. The library provides a rich set of operations like filtering, joining, grouping, and windowing.\", metadata={'created_at': 1702922696, 'modified_at': 1702922696, 'owner': None, 'path': '/Users/mlewandowski/langchain/templates/rag-pathway/sample_documents/repo_readme.md'})]"
      ]
     },
     "execution_count": 9,
     "metadata": {},
     "output_type": "execute_result"
    }
   ],
   "source": [
    "# This example only specifies a relevant query\n",
    "retriever.get_relevant_documents(\"What are the two features of Pathway?\")"
   ]
  },
  {
   "cell_type": "code",
   "execution_count": null,
   "id": "c93f0847-cbd9-4c25-aed1-91588e856b5c",
   "metadata": {},
   "outputs": [],
   "source": []
  }
 ],
 "metadata": {
  "kernelspec": {
   "display_name": "Python 3 (ipykernel)",
   "language": "python",
   "name": "python3"
  },
  "language_info": {
   "codemirror_mode": {
    "name": "ipython",
    "version": 3
   },
   "file_extension": ".py",
   "mimetype": "text/x-python",
   "name": "python",
   "nbconvert_exporter": "python",
   "pygments_lexer": "ipython3",
   "version": "3.10.9"
  }
 },
 "nbformat": 4,
 "nbformat_minor": 5
}
